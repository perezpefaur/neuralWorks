{
 "cells": [
  {
   "cell_type": "markdown",
   "metadata": {},
   "source": [
    "### Librerias a importar (ordenar)"
   ]
  },
  {
   "cell_type": "code",
   "execution_count": 1,
   "metadata": {},
   "outputs": [],
   "source": [
    "import csv\n",
    "from datetime import datetime, timedelta\n",
    "from sqlalchemy import create_engine, Column, Integer, String, DateTime, ForeignKey, Float, DDL, update\n",
    "from sqlalchemy.ext.declarative import declarative_base\n",
    "from sqlalchemy.orm import sessionmaker\n",
    "from sqlalchemy import func\n",
    "import psycopg2\n",
    "import re\n",
    "from sqlalchemy.sql import text"
   ]
  },
  {
   "cell_type": "markdown",
   "metadata": {},
   "source": [
    "### Nos conectamos a la base de datos\n",
    "\n",
    "Vamos a necesitar postgresql un usuario y una base de datos.\n",
    "Dentro de la base de datos utilize:\n",
    "\n",
    "`create extension cube;\n",
    "create extension earthdistance;`"
   ]
  },
  {
   "cell_type": "code",
   "execution_count": 2,
   "metadata": {},
   "outputs": [],
   "source": [
    "# Crear una conexión a la base de datos PostgreSQL\n",
    "engine = create_engine('postgresql://postgres@localhost/trips')"
   ]
  },
  {
   "cell_type": "markdown",
   "metadata": {},
   "source": [
    "### Definición y creación de las tablas\n",
    "\n",
    "Creamos la tabla trip como tabla principal. Podriamos crear la tabla de region y datasource, pero en este caso no tiene mucho sentido dado que solo tienen un atributo. Es importante recalcar que lo ideal seria crearlo para que sea facíl de escalar a futuro. Además de esto creamos los triggers para la ingesta de datos. Por ultimo creamos una tabla de trip groups para unir todos los viajes similares."
   ]
  },
  {
   "cell_type": "code",
   "execution_count": 3,
   "metadata": {},
   "outputs": [
    {
     "name": "stderr",
     "output_type": "stream",
     "text": [
      "/var/folders/pj/7mtmcswd4cbfyv45t63np94h0000gn/T/ipykernel_37020/144218342.py:2: MovedIn20Warning: Deprecated API features detected! These feature(s) are not compatible with SQLAlchemy 2.0. To prevent incompatible upgrades prior to updating applications, ensure requirements files are pinned to \"sqlalchemy<2.0\". Set environment variable SQLALCHEMY_WARN_20=1 to show all deprecation warnings.  Set environment variable SQLALCHEMY_SILENCE_UBER_WARNING=1 to silence this message. (Background on SQLAlchemy 2.0 at: https://sqlalche.me/e/b8d9)\n",
      "  Base = declarative_base()\n"
     ]
    }
   ],
   "source": [
    "# Declarar las clases de SQLAlchemy para las tablas de la base de datos\n",
    "Base = declarative_base()\n",
    "    \n",
    "class TripGroup(Base):\n",
    "    __tablename__ = 'tripgroup'\n",
    "    id = Column(Integer, primary_key=True)\n",
    "    origin_lat = Column(Float)\n",
    "    origin_lng = Column(Float)\n",
    "    destination_lat = Column(Float)\n",
    "    destination_lng = Column(Float)\n",
    "    datetime = Column(DateTime)\n",
    "    region = Column(String)\n",
    "\n",
    "class Trip(Base):\n",
    "    __tablename__ = 'trip'\n",
    "    id = Column(Integer, primary_key=True)\n",
    "    origin_lat = Column(Float)\n",
    "    origin_lng = Column(Float)\n",
    "    destination_lat = Column(Float)\n",
    "    destination_lng = Column(Float)\n",
    "    datetime = Column(DateTime)\n",
    "    region = Column(String)\n",
    "    datasource = Column(String)\n",
    "    tripgroup_id = Column(Integer, ForeignKey('tripgroup.id'))\n",
    "    \n",
    "class LogData(Base):\n",
    "    __tablename__ = 'log_data'\n",
    "    id = Column(Integer, primary_key=True)\n",
    "    datetime = Column(DateTime)\n",
    "    action = Column(String)\n",
    "    object_id = Column(Integer)\n",
    "\n",
    "# Crear las tablas en la base de datos\n",
    "Base.metadata.create_all(engine)\n",
    "\n",
    "create_insert_log = DDL(\"\"\"\n",
    "CREATE OR REPLACE FUNCTION create_insert_log()\n",
    "RETURNS TRIGGER AS $$\n",
    "BEGIN\n",
    "    INSERT INTO log_data (datetime, action) \n",
    "    VALUES (now(), 'INSERT TO TRIP');\n",
    "    RETURN NEW;\n",
    "END;\n",
    "$$ LANGUAGE plpgsql;\n",
    "\"\"\")\n",
    "\n",
    "log_trigger = DDL(\"\"\"\n",
    "CREATE OR REPLACE TRIGGER create_insert_log\n",
    "AFTER INSERT ON trip\n",
    "FOR EACH ROW\n",
    "EXECUTE FUNCTION create_insert_log();\n",
    "\"\"\")\n",
    "\n",
    "# Ejecutar las funciones\n",
    "engine.execute(create_insert_log)\n",
    "engine.execute(log_trigger)### Librerias a importar (ordenar)\n",
    "\n",
    "# Crear una sesión de SQLAlchemy para interactuar con la base de datos\n",
    "Session = sessionmaker(bind=engine)\n",
    "session = Session()"
   ]
  },
  {
   "cell_type": "markdown",
   "metadata": {},
   "source": [
    "### Creación de las filas\n",
    "\n",
    "Si utilizamos un archivo .csv se agregan las filas en bulk, si no es así se usa la función create_row para insertar solo una fila en particular.\n",
    "\n",
    "Los grupos se crean mediante cercanía en millas y en hora. Para este caso en particular se agrupan los viajes que no tengan una distancia mayor de 5 millas en cualquiera de las dos coordenadas y no tengan una separación mayor a 3 horas.\n",
    "\n",
    "**¿Por qué no elegir N grupos y separarlos en los más cercanos por coordenadas y hora para cada región?**\n",
    "\n",
    "Es simple, si llevamos esto a la realidad, probablemente las restricciones del problema van a ser del tipo:\n",
    "\n",
    "a) Que la parada inicial y final no este a más de X millas de donde salen originalmente (para que utilicen el servicio)\n",
    "\n",
    "b) Que la hora de salida no tenga más de X horas de diferencia con su hora original de salida (para que utilicen el servicio)\n",
    "\n",
    "Entonces se dejan parametrizados estas variables. No hacía sentido crear N grupos, crear N grupo de viajes y después saber que las personas no utilizan los nuevos medios de trasporte."
   ]
  },
  {
   "cell_type": "code",
   "execution_count": 4,
   "metadata": {},
   "outputs": [],
   "source": [
    "# Function to extract lat,long from string\n",
    "def extract_lat_long(string):\n",
    "    match = re.search(\"\\((.*)\\)\", string)\n",
    "    lat,long = match.group(1).split(\" \")\n",
    "    return (float(lat),float(long))\n",
    "\n",
    "def upsert_group(origin_lat, origin_lng, destination_lat, destination_lng, datetime, region, miles=5, hours=3):\n",
    "    date_time_sum_three = datetime + timedelta(hours=hours)\n",
    "    date_time_minus_three = datetime - timedelta(hours=hours)\n",
    "    group = engine.execute(text(f\"SELECT * FROM TRIPGROUP WHERE point({origin_lat},{origin_lng}) <@> point(tripgroup.origin_lat, tripgroup.origin_lng) < {miles} AND point({destination_lat},{destination_lng}) <@> point(tripgroup.destination_lat, tripgroup.destination_lng) < {miles} AND datetime BETWEEN '{date_time_minus_three}' AND '{date_time_sum_three}';\")).fetchall()\n",
    "    if group:\n",
    "        # if group exists, return group id\n",
    "        return group[0].id\n",
    "    else:\n",
    "        # create new group and return the id\n",
    "        new_group = TripGroup(origin_lat=origin_lat, origin_lng=origin_lng, destination_lat=destination_lat, destination_lng=destination_lng, datetime=datetime, region=region)\n",
    "        session.add(new_group)\n",
    "        session.commit()\n",
    "        return new_group.id\n",
    "\n",
    "# Ocupo esta funcion solo si quiero agregar un dato\n",
    "def create_row(region_name, datasource_name, origin_coord, destination_coord, timestamp):\n",
    "    origin_coord = extract_lat_long(origin_coord)\n",
    "    destination_coord = extract_lat_long(destination_coord)\n",
    "    group_id = upsert_group(origin_lat=origin_coord[0], origin_lng=origin_coord[1], destination_lat=destination_coord[0], destination_lng=destination_coord[1], datetime=datetime.strptime(timestamp, '%Y-%m-%d %H:%M:%S'), region=region_name)\n",
    "    # Crear un objeto de la clase Trip para el registro\n",
    "    trip = Trip(origin_lat=origin_coord[0], origin_lng=origin_coord[1], destination_lat=destination_coord[0], destination_lng=destination_coord[1], datetime=datetime.strptime(timestamp, '%Y-%m-%d %H:%M:%S'), region=region_name, datasource=datasource_name, tripgroup_id=group_id)\n",
    "    session.add(trip)\n",
    "    # Hacer un commit para guardar los cambios en la base de datos\n",
    "    session.commit()\n",
    "\n",
    "# Ocupo esta funcion si quiero agregar varios datos en un archivo csv\n",
    "def read_trips(file_name):\n",
    "  # Leer el archivo CSV\n",
    "  with open(file_name, 'r') as f:\n",
    "    reader = csv.DictReader(f)\n",
    "\n",
    "    # Create a list or queue to hold the data temporarily\n",
    "    trips_data = []\n",
    "\n",
    "    # Define a batch size, for example, 1000\n",
    "    BATCH_SIZE = 1000000\n",
    "\n",
    "    # Iterar sobre cada fila del archivo\n",
    "    for row in reader:\n",
    "        region_name = row['region']\n",
    "        datasource_name = row['datasource']\n",
    "        origin_coord = extract_lat_long(row['origin_coord'])\n",
    "        destination_coord = extract_lat_long(row['destination_coord'])\n",
    "        timestamp = datetime.strptime(row['datetime'], '%Y-%m-%d %H:%M:%S')\n",
    "\n",
    "        group_id = upsert_group(origin_lat=origin_coord[0], origin_lng=origin_coord[1], destination_lat=destination_coord[0], destination_lng=destination_coord[1], datetime=timestamp, region=region_name)\n",
    "\n",
    "        # Crear un objeto de la clase Trip para el registro\n",
    "        trip = {'origin_lat': origin_coord[0], 'origin_lng': origin_coord[1], 'destination_lat': destination_coord[0], 'destination_lng': destination_coord[1], 'datetime': timestamp, 'region': region_name, 'datasource': datasource_name, 'tripgroup_id': group_id}\n",
    "\n",
    "        trips_data.append(trip)\n",
    "\n",
    "        if len(trips_data) >= BATCH_SIZE:\n",
    "            # Insert the data in batches using the bulk_insert_mappings() method\n",
    "            session.bulk_insert_mappings(Trip, trips_data)\n",
    "            session.commit()\n",
    "            # Clear the list or queue for the next batch\n",
    "            trips_data.clear()\n",
    "\n",
    "    # Insert any remaining data\n",
    "    if trips_data:\n",
    "        session.bulk_insert_mappings(Trip, trips_data)\n",
    "        session.commit()"
   ]
  },
  {
   "cell_type": "markdown",
   "metadata": {},
   "source": [
    "### Utilizamos funcion read_trips"
   ]
  },
  {
   "cell_type": "code",
   "execution_count": 5,
   "metadata": {},
   "outputs": [],
   "source": [
    "read_trips('trips.csv')"
   ]
  },
  {
   "cell_type": "markdown",
   "metadata": {},
   "source": [
    "### Probamos que funcione correctamente"
   ]
  },
  {
   "cell_type": "code",
   "execution_count": 6,
   "metadata": {},
   "outputs": [
    {
     "name": "stdout",
     "output_type": "stream",
     "text": [
      "origin_lat origin_lng destination_lat destination_lng datetime datasource region group\n",
      "9.840595540189936 53.50991873196815 10.12399795075635 53.62949412099623 2018-05-01 05:24:37 funny_car Hamburg 970\n",
      "9.936476031944927 53.45543416459435 10.04091186185177 53.42024644236509 2018-05-01 10:22:59 baba_car Hamburg 930\n",
      "10.05260098579818 53.53497739746809 10.05889649564977 53.49486429314853 2018-05-04 00:46:12 cheap_mobile Hamburg 892\n",
      "10.20044161946335 53.54722485790852 9.857518857977054 53.52506880668962 2018-05-05 12:39:21 cheap_mobile Hamburg 905\n",
      "9.961144659266848 53.42865933587807 10.08503581364391 53.43645004358303 2018-05-06 06:34:22 cheap_mobile Hamburg 893\n",
      "10.17801484401512 53.55155909331071 9.958672518621771 53.5509263400788 2018-05-07 10:28:04 pt_search_app Hamburg 962\n",
      "9.80304883152659 53.50847122244616 9.834883820942993 53.63694321201706 2018-05-09 09:28:24 cheap_mobile Hamburg 908\n",
      "10.1457401708168 53.43686908113324 10.19421502623748 53.49444402955017 2018-05-10 03:37:56 bad_diesel_vehicles Hamburg 974\n",
      "9.915740323664213 53.60938698922035 9.836133816394081 53.5340991521548 2018-05-10 17:51:38 cheap_mobile Hamburg 902\n",
      "10.03381912541321 53.52487206530561 9.822644521723184 53.60047266825603 2018-05-12 16:40:40 bad_diesel_vehicles Hamburg 964\n",
      "9.910278201788232 53.58386264717827 10.02557919725378 53.4120717767391 2018-05-13 13:09:19 funny_car Hamburg 889\n",
      "10.02610136178745 53.50122432388112 9.83414766930147 53.6513082275632 2018-05-14 01:47:52 baba_car Hamburg 937\n",
      "10.07299025213017 53.62044974829032 9.789197601249002 53.46315765148751 2018-05-15 09:13:36 bad_diesel_vehicles Hamburg 888\n",
      "10.06118280297654 53.46738240063593 10.20354128171305 53.51109692120344 2018-05-17 04:27:09 baba_car Hamburg 933\n",
      "10.2154964127794 53.53161090271701 10.20544652088819 53.5064112329052 2018-05-18 11:07:29 cheap_mobile Hamburg 921\n",
      "10.0778786538811 53.60371774249091 9.880352497673615 53.56088794736056 2018-05-19 18:32:09 baba_car Hamburg 975\n",
      "10.17378993097742 53.5467336774148 10.21529787231755 53.50485266884467 2018-05-21 04:06:11 pt_search_app Hamburg 973\n",
      "10.04884628340258 53.51430547831718 9.805977128944804 53.56924626552725 2018-05-21 19:13:24 cheap_mobile Hamburg 920\n",
      "10.00384920850646 53.65220121071665 9.944925737232104 53.42494618904695 2018-05-21 20:53:22 cheap_mobile Hamburg 956\n",
      "10.08338857045871 53.59661344302611 10.17914017806172 53.60909301795856 2018-05-22 10:39:49 baba_car Hamburg 979\n",
      "9.851542240435057 53.49993939960235 10.03250822637649 53.50058121032057 2018-05-23 05:55:37 funny_car Hamburg 906\n",
      "9.996714798980491 53.52203690589671 10.17431393081631 53.51796499041119 2018-05-23 12:43:17 baba_car Hamburg 977\n",
      "10.15410920623684 53.53092417407957 10.1041201879328 53.42920211427293 2018-05-27 17:41:17 funny_car Hamburg 969\n",
      "10.19019363228404 53.45209827865287 10.0999398824815 53.55965167658809 2018-05-28 22:04:56 funny_car Hamburg 972\n",
      "10.20093686911824 53.50775292606026 10.03920714083507 53.56698314675397 2018-05-29 06:06:38 cheap_mobile Hamburg 966\n",
      "10.08064772413434 53.5438877700869 9.985427968556252 53.41711096758155 2018-05-29 07:02:25 cheap_mobile Hamburg 963\n",
      "9.855285083390802 53.49609983095765 10.03327373452912 53.65419620043016 2018-05-31 10:55:12 bad_diesel_vehicles Hamburg 894\n",
      "9.91347867604199 53.64940529138455 10.17687554971065 53.63421553339072 2018-05-31 11:59:33 baba_car Hamburg 961\n",
      "14.49290671173996 50.01644032542101 14.48735724430722 50.0275445326544 2018-05-01 11:50:58 cheap_mobile Prague 898\n",
      "14.4251434102725 50.08626745067269 14.40585085170846 50.09331773424552 2018-05-02 13:48:30 baba_car Prague 912\n",
      "14.66689257396927 50.07203997731474 14.45281481537168 50.03751904953268 2018-05-03 01:35:44 cheap_mobile Prague 918\n",
      "14.56861581242726 50.10620152153201 14.31831785619946 49.999311030748 2018-05-03 05:24:26 baba_car Prague 950\n",
      "14.37987779362806 50.02580819336156 14.44097861083801 49.99269705719384 2018-05-03 10:45:23 cheap_mobile Prague 942\n",
      "14.33562319852013 50.05977285737693 14.45302412886982 50.06961029075634 2018-05-03 18:56:45 cheap_mobile Prague 976\n",
      "14.52723245789148 50.01620449831963 14.66530238921314 50.11783538584734 2018-05-04 02:42:32 bad_diesel_vehicles Prague 929\n",
      "14.49581069715323 50.07207927074405 14.54926715156042 50.04365439736826 2018-05-04 04:40:35 pt_search_app Prague 924\n",
      "14.55782768207913 50.08426714850849 14.60224344606894 50.10794700670115 2018-05-06 05:13:16 bad_diesel_vehicles Prague 914\n",
      "14.41986637983827 50.02012470664376 14.41014860957387 50.08518970681641 2018-05-06 12:56:14 bad_diesel_vehicles Prague 900\n",
      "14.65848565403607 50.11571340810843 14.61296534823862 50.06347771442317 2018-05-08 04:22:01 funny_car Prague 909\n",
      "14.59545724636152 50.0524554235424 14.48321912885263 50.06509529578676 2018-05-09 04:23:26 pt_search_app Prague 958\n",
      "14.65754935346634 50.11820315220623 14.48378121129139 50.09770540993485 2018-05-10 09:38:12 pt_search_app Prague 954\n",
      "14.37338615486802 50.06537556739956 14.54081985518606 50.08790619445585 2018-05-10 23:04:58 pt_search_app Prague 935\n",
      "14.42559620999022 50.05308939656821 14.54762887318999 50.00573858824717 2018-05-11 21:16:54 baba_car Prague 904\n",
      "14.40975521275597 50.037791514028 14.59895464921585 50.05472087955579 2018-05-12 08:13:09 cheap_mobile Prague 978\n",
      "14.56801740803507 49.98980557466577 14.60544806001137 50.1174974586993 2018-05-12 15:12:04 pt_search_app Prague 916\n",
      "14.32427345662177 50.00002074358429 14.47767895969969 50.09339790740321 2018-05-13 08:52:25 cheap_mobile Prague 885\n",
      "14.34611560109357 50.02251748571683 14.34790601885638 50.11666616118271 2018-05-14 23:16:56 pt_search_app Prague 945\n",
      "14.61738744026195 50.03346482370401 14.31199296863995 50.09604608872181 2018-05-15 22:10:03 baba_car Prague 980\n",
      "14.64292585196625 50.02034172465275 14.5017970263999 50.03963869865565 2018-05-17 20:15:45 cheap_mobile Prague 939\n",
      "14.47912398994219 50.11781434726048 14.54894833778109 50.01480664304733 2018-05-19 09:07:17 pt_search_app Prague 960\n",
      "14.31840390580184 50.08466755143189 14.55762488630385 50.08502385365859 2018-05-19 23:08:09 funny_car Prague 917\n",
      "14.33107209002501 50.06307196908211 14.3200468695536 50.10807754182695 2018-05-20 01:41:36 cheap_mobile Prague 926\n",
      "14.34394689715277 50.12299688052901 14.45046952210687 50.10077692162883 2018-05-20 02:31:22 cheap_mobile Prague 896\n",
      "14.37153748521014 50.00937333429672 14.65648496061339 50.1233558262903 2018-05-20 05:47:02 cheap_mobile Prague 934\n",
      "14.35146190337486 50.10386689948413 14.3588281620048 50.00428816034508 2018-05-21 06:52:19 bad_diesel_vehicles Prague 910\n",
      "14.53300650375239 50.12502233477432 14.66560032530535 50.0869602482622 2018-05-23 01:07:33 cheap_mobile Prague 936\n",
      "14.38418951543671 50.07570422895751 14.41150237340828 50.02800588921088 2018-05-23 02:18:33 bad_diesel_vehicles Prague 948\n",
      "14.34989439101649 50.0578756416996 14.6610239449707 50.07877245872595 2018-05-26 01:13:35 funny_car Prague 943\n",
      "14.42318361059361 50.11958193109052 14.49475583828166 50.02232490084747 2018-05-26 20:39:37 bad_diesel_vehicles Prague 941\n",
      "14.4973794438195 50.00136875782316 14.43109483523328 50.04052930943246 2018-05-28 09:03:40 funny_car Prague 883\n",
      "14.62777653398497 50.00367807685823 14.64297252209033 50.0121919035355 2018-05-29 03:33:44 cheap_mobile Prague 932\n",
      "14.42406040824624 50.07214185487351 14.31657321025762 50.09295527259866 2018-05-29 12:44:02 cheap_mobile Prague 922\n",
      "7.558864701837288 45.11540031667295 7.770328470181719 45.05433872971169 2018-05-01 17:42:05 pt_search_app Turin 899\n",
      "7.551997743457845 44.99638623936507 7.531353488607957 45.01346936150077 2018-05-02 00:22:18 pt_search_app Turin 957\n",
      "7.557756740222061 45.0225802162822 7.763266287022981 45.03194358259004 2018-05-03 15:15:28 cheap_mobile Turin 928\n",
      "7.6523523241688 45.13930102848315 7.546186195389519 45.00660293197863 2018-05-03 16:16:46 pt_search_app Turin 923\n",
      "7.546386797113857 45.08746266421812 7.555944481215518 44.9974979951791 2018-05-05 06:08:53 bad_diesel_vehicles Turin 968\n",
      "7.72037765675129 45.1044438436921 7.695048310476258 45.12827648115218 2018-05-05 07:05:01 baba_car Turin 952\n",
      "7.560785081962462 45.01901608530191 7.583568695710608 45.10526898076209 2018-05-06 00:00:44 cheap_mobile Turin 890\n",
      "7.541509189114433 45.09160503827746 7.74528653441973 45.02628598341506 2018-05-06 09:49:16 bad_diesel_vehicles Turin 886\n",
      "7.579174066609555 45.07058209228659 7.613484349321846 45.06088494858106 2018-05-08 04:29:25 funny_car Turin 949\n",
      "7.662608916626361 45.09442558983316 7.724289698249433 45.07378523979249 2018-05-08 15:11:01 bad_diesel_vehicles Turin 915\n",
      "7.555153646171233 44.99912435872375 7.703621918783042 45.12162242437576 2018-05-11 05:58:34 cheap_mobile Turin 953\n",
      "7.603105215841434 45.0574978503937 7.639578002290701 45.10020564825853 2018-05-13 12:00:21 funny_car Turin 907\n",
      "7.513135087952872 45.04417775442011 7.643592218026432 45.02125136819493 2018-05-13 15:37:37 bad_diesel_vehicles Turin 959\n",
      "7.563475091132667 44.97997955620617 7.517129937471816 45.06482486034779 2018-05-13 22:16:27 pt_search_app Turin 938\n",
      "7.702418079996892 45.05754972796922 7.623229346744799 44.99969774086024 2018-05-14 02:07:30 cheap_mobile Turin 891\n",
      "7.675234513598563 45.08658289542927 7.673694614207704 45.05708350682146 2018-05-15 06:42:05 cheap_mobile Turin 951\n",
      "7.671077441892763 45.00676340143624 7.7199332961156 44.98171705467543 2018-05-15 20:30:12 pt_search_app Turin 925\n",
      "7.56304564848932 44.97612466562052 7.731930611357271 45.07122576386962 2018-05-16 11:56:33 pt_search_app Turin 903\n",
      "7.592730702551875 45.10999018294942 7.714926530712359 45.0772550203861 2018-05-18 19:29:56 bad_diesel_vehicles Turin 940\n",
      "7.621866502979116 45.08793552379486 7.558481292621633 45.09629278672146 2018-05-20 05:39:56 baba_car Turin 913\n",
      "7.672837913286881 44.9957109242058 7.720368637535126 45.06782385393849 2018-05-21 02:54:04 baba_car Turin 884\n",
      "7.535738586259044 45.09228283767607 7.579705278243088 45.1042591460774 2018-05-21 15:36:26 cheap_mobile Turin 955\n",
      "7.676692231736426 45.06249909939103 7.686960868773017 45.09709631077637 2018-05-21 21:32:17 baba_car Turin 967\n",
      "7.55733220251515 45.04346691930719 7.586779246260459 45.01495013918306 2018-05-23 08:59:29 funny_car Turin 947\n",
      "7.614078119815749 45.13433106465422 7.527497142312585 45.03335051325654 2018-05-23 12:45:54 pt_search_app Turin 887\n",
      "7.723807753167536 45.02971128289503 7.592874526101529 45.0395824302331 2018-05-24 18:32:22 pt_search_app Turin 971\n",
      "7.647498943910875 45.01930299183481 7.776838688899015 45.02291834470744 2018-05-25 09:59:33 baba_car Turin 946\n",
      "7.557295325138827 44.980984165477 7.634488648561684 45.09941960292201 2018-05-25 15:16:35 pt_search_app Turin 897\n",
      "7.691232870035057 45.06910822622201 7.526357497337862 44.98174478195055 2018-05-26 04:25:56 cheap_mobile Turin 911\n",
      "7.739660019780326 45.10100884469237 7.597114891145975 45.1162369066238 2018-05-26 05:15:45 cheap_mobile Turin 927\n",
      "7.732828486976612 45.09748898017552 7.66250749081722 45.06472681372993 2018-05-26 06:04:17 bad_diesel_vehicles Turin 927\n",
      "7.625041142160284 44.98182259298021 7.738953769704938 45.03730563222917 2018-05-26 12:14:42 bad_diesel_vehicles Turin 919\n",
      "7.579546999972512 45.07031923406972 7.698742357182772 45.05242942915245 2018-05-27 07:06:44 pt_search_app Turin 965\n",
      "7.688747565021865 44.98886727473593 7.761744775147509 44.98665501392073 2018-05-27 09:49:16 cheap_mobile Turin 944\n",
      "7.616964015642722 45.04912350611652 7.700324102531206 45.0688897670161 2018-05-28 04:23:42 funny_car Turin 931\n",
      "7.685899281076795 45.07566566332665 7.715597191909829 45.05465181263087 2018-05-29 13:42:34 bad_diesel_vehicles Turin 901\n",
      "7.703220872633631 45.12041666625482 7.713229884381637 45.08729268877508 2018-05-29 15:58:39 cheap_mobile Turin 901\n",
      "7.631911234917911 45.07638462112543 7.631498786757075 45.12355143687468 2018-05-31 06:20:59 pt_search_app Turin 895\n"
     ]
    }
   ],
   "source": [
    "trips = session.query(Trip).order_by(Trip.region, Trip.datetime)\n",
    "\n",
    "print('origin_lat', 'origin_lng', 'destination_lat', 'destination_lng', 'datetime', 'datasource', 'region', 'group')\n",
    "# Imprimir los resultados de la consulta\n",
    "for trip in trips:\n",
    "    print(trip.origin_lat, trip.origin_lng, trip.destination_lat, trip.destination_lng, trip.datetime, trip.datasource, trip.region, trip.tripgroup_id)"
   ]
  },
  {
   "cell_type": "markdown",
   "metadata": {},
   "source": [
    "### Podemos ver los puntos en un map"
   ]
  },
  {
   "cell_type": "code",
   "execution_count": 7,
   "metadata": {},
   "outputs": [],
   "source": [
    "import folium\n",
    "import pandas as pd\n",
    "import re\n",
    "\n",
    "query = 'SELECT * FROM trip'\n",
    "df = pd.read_sql(query, engine)\n",
    "\n",
    "# Create a map object\n",
    "m = folium.Map(location=[45, 10], zoom_start=5)\n",
    "\n",
    "# Add markers for origin and destination coordinates\n",
    "for i, row in df.iterrows():\n",
    "    folium.Marker(location=[row[\"origin_lat\"], row[\"origin_lng\"]],\n",
    "                  popup=f\"Datetime: {row['datetime']}\\nDatasource: {row['datasource']}\\nRegion: {row['region']}\",\n",
    "                  icon=folium.Icon(color='green')).add_to(m)\n",
    "    folium.Marker(location=[row[\"destination_lat\"], row[\"destination_lng\"]],\n",
    "                  popup=f\"Datetime: {row['datetime']}\\nDatasource: {row['datasource']}\\nRegion: {row['region']}\",\n",
    "                  icon=folium.Icon(color='red')).add_to(m)\n",
    "\n",
    "# Display the map\n",
    "m.save(\"map.html\")"
   ]
  },
  {
   "cell_type": "markdown",
   "metadata": {},
   "source": [
    "### Podemos incluir una opcion de sugerir nuevo punto de partida\n",
    "\n",
    "**¿Por qué no automatizar esta selección?**\n",
    "\n",
    "Por dos principales razones:\n",
    "1) Las coordenadas pueden ser no accesibles (ej propiedad privada)\n",
    "\n",
    "2) La idea es no cambiar los puntos de partida de un día a otro empeorando el servicio"
   ]
  },
  {
   "cell_type": "code",
   "execution_count": 8,
   "metadata": {},
   "outputs": [
    {
     "name": "stdout",
     "output_type": "stream",
     "text": [
      "Change suggestion for trip group id 901\n",
      "Replace:\n",
      "(7.703220872633631, 45.12041666625482, 7.713229884381637, 45.08729268877508)\n",
      "For:\n",
      "(7.694560076855213, 45.098041164790736, 7.714413538145733, 45.07097225070298)\n",
      "\n",
      "\n",
      "Change suggestion for trip group id 927\n",
      "Replace:\n",
      "(7.739660019780326, 45.10100884469237, 7.597114891145975, 45.1162369066238)\n",
      "For:\n",
      "(7.736244253378469, 45.09924891243395, 7.629811190981598, 45.090481860176865)\n",
      "\n",
      "\n"
     ]
    }
   ],
   "source": [
    "def groups_with_bigger_one():\n",
    "    query = \"SELECT tripgroup_id FROM trip GROUP BY tripgroup_id HAVING COUNT(tripgroup_id) > 1\"\n",
    "    return engine.execute(query).fetchall()\n",
    "\n",
    "def new_trips_suggestions():\n",
    "    posible_groups = groups_with_bigger_one()\n",
    "    for group in posible_groups:\n",
    "        query_suggestion = f\"SELECT AVG(origin_lat), AVG(origin_lng), AVG(destination_lat), AVG(destination_lng) FROM trip WHERE tripgroup_id = {group[0]}\"\n",
    "        result_suggestion = engine.execute(query_suggestion).fetchall()[0]\n",
    "        query_original = f\"SELECT origin_lat,origin_lng,destination_lat,destination_lng FROM tripgroup WHERE id = {group[0]}\"\n",
    "        result_original = engine.execute(query_original).fetchall()[0]\n",
    "        if result_suggestion[0] != result_original[0] or result_suggestion[1] != result_original[1] or result_suggestion[2] != result_original[2] or result_suggestion[3] != result_original[3]:\n",
    "            print(f\"Change suggestion for trip group id {group[0]}\")\n",
    "            print(\"Replace:\")\n",
    "            print(result_original)\n",
    "            print(\"For:\")\n",
    "            print(result_suggestion)\n",
    "            print(\"\\n\")\n",
    "\n",
    "def update_trip_group_coord(id, origin_lat, origin_lng, destination_lat, destination_lng):\n",
    "    stmt = update(TripGroup).where(TripGroup.id == id).values(origin_lat=origin_lat, origin_lng=origin_lng, destination_lat=destination_lat, destination_lng=destination_lng)\n",
    "    result = engine.execute(stmt)\n",
    "    trips_that_can_change = engine.execute(f\"SELECT * FROM TRIP JOIN TRIPGROUP ON tripgroup.id = {id} AND trip.tripgroup_id != {id} AND point(tripgroup.origin_lat,tripgroup.origin_lng) <@> point(trip.origin_lat, trip.origin_lng) < 5 AND point(tripgroup.destination_lat,tripgroup.destination_lng) <@> point(trip.destination_lat, trip.destination_lng) < 5 WHERE trip.datetime BETWEEN tripgroup.datetime - INTERVAL '3 hour' AND tripgroup.datetime + INTERVAL '3 hour';\").fetchall()\n",
    "    for trip in trips_that_can_change:\n",
    "        print(f\"Warning, with the new change you can group trip id {trip[0]} in group {id} and eliminate group id {trip[8]}\")\n",
    "\n",
    "new_trips_suggestions()"
   ]
  },
  {
   "cell_type": "markdown",
   "metadata": {},
   "source": [
    "### Podemos seguir la suggerencia o cambiar un poco las coordenadas\n",
    "\n",
    "La sugerencia anterior es a partir del promedio de lat y lng del grupo. Con esto podemos aceptar la sugenrencia y cambiar las coordenadas, además te avisa en caso de encontrar una mejor solución (menor cantidad de viajes) con el cambio."
   ]
  },
  {
   "cell_type": "code",
   "execution_count": 9,
   "metadata": {},
   "outputs": [],
   "source": [
    "# Solo ejecutar en base a las sugerencias de arriba\n",
    "#update_trip_group_coord(829, 7.736244253378469, 45.09924891243395, 7.629811190981598, 45.090481860176865)"
   ]
  },
  {
   "cell_type": "markdown",
   "metadata": {},
   "source": [
    "### Obtener promedio por región y bounding box\n",
    "\n",
    "Creamos las queries donde consultamos los datos que pidieron."
   ]
  },
  {
   "cell_type": "code",
   "execution_count": 10,
   "metadata": {},
   "outputs": [
    {
     "name": "stdout",
     "output_type": "stream",
     "text": [
      "5.6000000000000000\n",
      "3.0000000000000000\n",
      "3.0000000000000000\n"
     ]
    }
   ],
   "source": [
    "def weekly_trips_mean_by_region(region_id):\n",
    "    query = \"SELECT AVG(count) as average_trips FROM (SELECT date_trunc('week', datetime) as week, count(*) as count FROM trip WHERE region = '{}' GROUP BY week) as subquery\".format(region_id)\n",
    "    return engine.execute(query).scalar()\n",
    "\n",
    "def weekly_trips_mean_by_bounding_box(min_lat, max_lat, min_lng, max_lng):\n",
    "    query = \"SELECT AVG(count) as average_trips FROM (SELECT date_trunc('week', datetime) as week, count(*) as count FROM trip WHERE origin_lat BETWEEN {} AND {} AND origin_lng BETWEEN {} AND {} AND destination_lat BETWEEN {} AND {} AND destination_lng BETWEEN {} AND {} GROUP BY week) as subquery\".format(min_lat, max_lat, min_lng, max_lng, min_lat, max_lat, min_lng, max_lng)\n",
    "    return engine.execute(query).scalar()\n",
    "\n",
    "def weekly_trips_mean_by_region_and_box(min_lat, max_lat, min_lng, max_lng, region_id):\n",
    "    query = \"SELECT AVG(count) as average_trips FROM (SELECT date_trunc('week', datetime) as week, count(*) as count FROM trip WHERE origin_lat BETWEEN {} AND {} AND origin_lng BETWEEN {} AND {} AND destination_lat BETWEEN {} AND {} AND destination_lng BETWEEN {} AND {} AND region = '{}' GROUP BY week) as subquery\".format(min_lat, max_lat, min_lng, max_lng, min_lat, max_lat, min_lng, max_lng, region_id)\n",
    "    return engine.execute(query).scalar()\n",
    "\n",
    "print(weekly_trips_mean_by_region('Hamburg'))\n",
    "print(weekly_trips_mean_by_bounding_box(14.3, 14.6, 49.9, 50.1))\n",
    "print(weekly_trips_mean_by_region_and_box(14.3, 14.6, 49.9, 50.1, 'Prague'))\n"
   ]
  },
  {
   "cell_type": "markdown",
   "metadata": {},
   "source": [
    "### Consultamos la ingesta de datos\n",
    "\n",
    "Creamos una funcion que consulta entre dos fechas la cantidad de filas creadas."
   ]
  },
  {
   "cell_type": "code",
   "execution_count": 11,
   "metadata": {},
   "outputs": [
    {
     "data": {
      "text/plain": [
       "100"
      ]
     },
     "execution_count": 11,
     "metadata": {},
     "output_type": "execute_result"
    }
   ],
   "source": [
    "def data_ingest_by_date(start_time, end_time):\n",
    "    query = text(f\"SELECT COUNT(*) FROM log_data WHERE datetime BETWEEN '{start_time}' AND '{end_time}'\")\n",
    "    return engine.execute(query).scalar()\n",
    "\n",
    "data_ingest_by_date(start_time = '2022-01-01', end_time = '2024-01-31')"
   ]
  },
  {
   "cell_type": "markdown",
   "metadata": {},
   "source": [
    "### Comprobamos que escale\n",
    "\n",
    "Generalmente los datos van a ir consumiendose en tiempo real y no con un archivo grande .csv por lo que los inserts no deberian ser de mayor preocupación. Creamos un archivo con 1 millon de filas para testear el tiempo de todas las consultas juntas y como se puede ver es bastante escalable."
   ]
  },
  {
   "cell_type": "code",
   "execution_count": 12,
   "metadata": {},
   "outputs": [],
   "source": [
    "read_trips('trips_scale.csv')"
   ]
  },
  {
   "cell_type": "code",
   "execution_count": 18,
   "metadata": {},
   "outputs": [
    {
     "name": "stdout",
     "output_type": "stream",
     "text": [
      "56453.600000000000\n",
      "30243.000000000000\n",
      "30243.000000000000\n",
      "1006420\n",
      "Total time taken:  0.23499011993408203\n"
     ]
    }
   ],
   "source": [
    "import time\n",
    "\n",
    "start_time = time.time()\n",
    "print(weekly_trips_mean_by_region('Hamburg'))\n",
    "print(weekly_trips_mean_by_bounding_box(14.3, 14.6, 49.9, 50.1))\n",
    "print(weekly_trips_mean_by_region_and_box(14.3, 14.6, 49.9, 50.1, 'Prague'))\n",
    "print(data_ingest_by_date(start_time = '2022-01-01', end_time = '2024-01-31'))\n",
    "\n",
    "end_time = time.time()\n",
    "total_time = end_time - start_time\n",
    "print(\"Total time taken: \", total_time)"
   ]
  }
 ],
 "metadata": {
  "kernelspec": {
   "display_name": "Python 3 (ipykernel)",
   "language": "python",
   "name": "python3"
  },
  "language_info": {
   "codemirror_mode": {
    "name": "ipython",
    "version": 3
   },
   "file_extension": ".py",
   "mimetype": "text/x-python",
   "name": "python",
   "nbconvert_exporter": "python",
   "pygments_lexer": "ipython3",
   "version": "3.8.9"
  },
  "vscode": {
   "interpreter": {
    "hash": "31f2aee4e71d21fbe5cf8b01ff0e069b9275f58929596ceb00d14d90e3e16cd6"
   }
  }
 },
 "nbformat": 4,
 "nbformat_minor": 2
}
